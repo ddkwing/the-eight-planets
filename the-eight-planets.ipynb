{
 "cells": [
  {
   "cell_type": "raw",
   "id": "c363619e-5ee4-4536-9361-20f3da3edaaa",
   "metadata": {},
   "source": [
    "---\n",
    "title: 你好🌍🪐\n",
    "description: 关于八大行星\n",
    "params:\n",
    "    planet:\n",
    "        input: select\n",
    "        label: \"请选择一个行星\"\n",
    "        value: Earth\n",
    "        choices: [Mercury, Venus, Earth, Mars, Jupiter, Saturn, Uranus, Neptune]\n",
    "    ship_quantity:\n",
    "        input: slider\n",
    "        label: \"请选择探测的数量\"\n",
    "        value: 5\n",
    "        min: 0\n",
    "        max: 10\n",
    "---"
   ]
  },
  {
   "cell_type": "code",
   "execution_count": 1,
   "id": "54869680-90f6-4bb0-a5db-5a800841c119",
   "metadata": {},
   "outputs": [],
   "source": [
    "planet = \"Earth\"\n",
    "ship_quantity = 1"
   ]
  },
  {
   "cell_type": "code",
   "execution_count": 2,
   "id": "a2479cf1-323d-4cb1-b523-681ffad04fa2",
   "metadata": {},
   "outputs": [
    {
     "name": "stdout",
     "output_type": "stream",
     "text": [
      "目标朝向： Earth\n",
      "发射 1 艘飞船\n"
     ]
    }
   ],
   "source": [
    "print(f\"目标朝向： {planet}\")\n",
    "\n",
    "print(f\"发射 {ship_quantity} 艘飞船\")"
   ]
  }
 ],
 "metadata": {
  "kernelspec": {
   "display_name": "Python 3 (ipykernel)",
   "language": "python",
   "name": "python3"
  },
  "language_info": {
   "codemirror_mode": {
    "name": "ipython",
    "version": 3
   },
   "file_extension": ".py",
   "mimetype": "text/x-python",
   "name": "python",
   "nbconvert_exporter": "python",
   "pygments_lexer": "ipython3",
   "version": "3.9.10"
  }
 },
 "nbformat": 4,
 "nbformat_minor": 5
}
